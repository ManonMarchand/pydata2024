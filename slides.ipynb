{
 "cells": [
  {
   "cell_type": "markdown",
   "id": "e69d9444-0fe8-4b61-9dbf-a0e3cd8f6c56",
   "metadata": {
    "editable": true,
    "slideshow": {
     "slide_type": "slide"
    },
    "tags": []
   },
   "source": [
    "# The sky in a notebook: the `ipyaladin` widget\n",
    "\n",
    "<u>Matthieu Baumann</u>¹, Thomas Boch¹, Tom Czekaj & <u>Manon Marchand</u>¹\n",
    "\n",
    "1. Strasbourg Astronomical Data Centre (CDS)\n",
    "\n",
    "***\n",
    "\n",
    "<img align=\"center\" src=\"assets/CDS-logo.png\" width=\"40%\"/>"
   ]
  },
  {
   "cell_type": "markdown",
   "id": "6e0f8689-e2e2-498e-b988-f94016910b00",
   "metadata": {
    "editable": true,
    "slideshow": {
     "slide_type": "slide"
    },
    "tags": []
   },
   "source": [
    "## Part on Aladin goes here"
   ]
  },
  {
   "cell_type": "markdown",
   "id": "7452b579",
   "metadata": {
    "editable": true,
    "slideshow": {
     "slide_type": "slide"
    },
    "tags": []
   },
   "source": [
    "## `ipyaladin` in action: exploration of the Perseus's Cluster of galaxies\n",
    "\n",
    "Change target from Python"
   ]
  },
  {
   "cell_type": "code",
   "execution_count": 1,
   "id": "c2b189d9-3252-46fa-8ca5-563688290ae7",
   "metadata": {
    "editable": true,
    "slideshow": {
     "slide_type": ""
    },
    "tags": []
   },
   "outputs": [],
   "source": [
    "from ipyaladin import Aladin"
   ]
  },
  {
   "cell_type": "code",
   "execution_count": 2,
   "id": "80b46c2c-3380-4da3-8c16-02092c1140d5",
   "metadata": {
    "editable": true,
    "slideshow": {
     "slide_type": ""
    },
    "tags": []
   },
   "outputs": [
    {
     "data": {
      "application/vnd.jupyter.widget-view+json": {
       "model_id": "d9e9a77697254aac91d432d44038e51b",
       "version_major": 2,
       "version_minor": 1
      },
      "text/plain": [
       "Aladin()"
      ]
     },
     "execution_count": 2,
     "metadata": {},
     "output_type": "execute_result"
    }
   ],
   "source": [
    "aladin = Aladin()\n",
    "aladin"
   ]
  },
  {
   "cell_type": "code",
   "execution_count": 3,
   "id": "e6860626-4805-4e61-8108-9c8dadfb0f9f",
   "metadata": {
    "editable": true,
    "slideshow": {
     "slide_type": ""
    },
    "tags": []
   },
   "outputs": [],
   "source": [
    "aladin.target = \"Perseus Cluster\""
   ]
  },
  {
   "cell_type": "code",
   "execution_count": 4,
   "id": "0890a3d6-8678-4f3d-a258-30448ec09cc8",
   "metadata": {
    "editable": true,
    "slideshow": {
     "slide_type": ""
    },
    "tags": []
   },
   "outputs": [
    {
     "data": {
      "text/plain": [
       "<SkyCoord (ICRS): (ra, dec) in deg\n",
       "    (49.94667, 41.51306)>"
      ]
     },
     "execution_count": 4,
     "metadata": {},
     "output_type": "execute_result"
    }
   ],
   "source": [
    "target = aladin.target\n",
    "target"
   ]
  },
  {
   "cell_type": "markdown",
   "id": "44efcf99-5630-46ba-9be5-0278e4ccc12a",
   "metadata": {
    "editable": true,
    "slideshow": {
     "slide_type": "fragment"
    },
    "tags": []
   },
   "source": [
    "Read the relevant field of view"
   ]
  },
  {
   "cell_type": "code",
   "execution_count": 5,
   "id": "2d2d4488-a255-45c1-a43d-b36b032c3366",
   "metadata": {
    "editable": true,
    "slideshow": {
     "slide_type": ""
    },
    "tags": []
   },
   "outputs": [
    {
     "data": {
      "text/latex": [
       "$0^\\circ59{}^\\prime41.892{}^{\\prime\\prime}$"
      ],
      "text/plain": [
       "<Angle 0.99497 deg>"
      ]
     },
     "execution_count": 5,
     "metadata": {},
     "output_type": "execute_result"
    }
   ],
   "source": [
    "field_of_view = aladin.fov\n",
    "field_of_view"
   ]
  },
  {
   "cell_type": "code",
   "execution_count": null,
   "id": "ac5b2b01-c270-454e-8b1a-7696f585d52f",
   "metadata": {
    "editable": true,
    "slideshow": {
     "slide_type": "fragment"
    },
    "tags": []
   },
   "outputs": [],
   "source": []
  },
  {
   "cell_type": "markdown",
   "id": "ce86c7a6-026f-4682-842f-7cedb11917e3",
   "metadata": {
    "editable": true,
    "slideshow": {
     "slide_type": "slide"
    },
    "tags": []
   },
   "source": [
    " ## Identify the galaxies in one click\n",
    "\n",
    "<img src=\"assets/target.png\" width=\"10%\" align=\"center center\">\n",
    "\n",
    "The information comes from the SIMBAD bibliographic database"
   ]
  },
  {
   "cell_type": "code",
   "execution_count": 6,
   "id": "81a8c7e2-b16a-488f-9359-9f42ca8d3788",
   "metadata": {
    "editable": true,
    "slideshow": {
     "slide_type": ""
    },
    "tags": []
   },
   "outputs": [],
   "source": [
    "from astroquery.simbad import Simbad"
   ]
  },
  {
   "cell_type": "code",
   "execution_count": 11,
   "id": "d7e0990f-d672-4bea-9f1b-e04a8e06d4db",
   "metadata": {
    "editable": true,
    "slideshow": {
     "slide_type": ""
    },
    "tags": []
   },
   "outputs": [
    {
     "name": "stdout",
     "output_type": "stream",
     "text": [
      "Found 841 galaxies in 0.99497° around this point.\n"
     ]
    }
   ],
   "source": [
    "known_galaxies = Simbad.query_region(\n",
    "    target,\n",
    "    radius=field_of_view,\n",
    "    criteria=\"otype = 'G..'\"\n",
    ")\n",
    "print(f\"Found {len(known_galaxies)} galaxies in {field_of_view.deg}° around this point.\")"
   ]
  },
  {
   "cell_type": "code",
   "execution_count": 8,
   "id": "fb004ccb-a4ec-4c42-9622-f944b28f1e44",
   "metadata": {
    "editable": true,
    "slideshow": {
     "slide_type": ""
    },
    "tags": []
   },
   "outputs": [],
   "source": [
    "aladin.add_table(known_galaxies, color=\"lightgreen\", name=\"known_galaxies\")"
   ]
  },
  {
   "cell_type": "markdown",
   "id": "be457534-8e66-49fa-8b30-b591579b7990",
   "metadata": {
    "editable": true,
    "slideshow": {
     "slide_type": ""
    },
    "tags": []
   },
   "source": [
    "Some of them are missing. Let's see what we can learn"
   ]
  },
  {
   "cell_type": "markdown",
   "id": "0aec91e7-cea2-4e27-96cc-0493f5396719",
   "metadata": {
    "editable": true,
    "slideshow": {
     "slide_type": "slide"
    },
    "tags": []
   },
   "source": [
    "## Multi-wavelength caracterization\n",
    "\n",
    "The physical information lies in different parts of the electromagnetic spectrum, that are explored by different telescopes.\n",
    "\n",
    " <img src=\"assets/spectrum.png\" width=\"100%\" align=\"right\"> \n",
    "\n",
    " Let's explore `ipyaladin`'s features along this spectrum. "
   ]
  },
  {
   "cell_type": "markdown",
   "id": "0d6e3e03-e55d-40e4-87b0-f1e442b05a31",
   "metadata": {
    "editable": true,
    "slideshow": {
     "slide_type": "slide"
    },
    "tags": []
   },
   "source": [
    "<img src=\"assets/askap.png\" width=\"80%\">\n",
    "\n",
    "### ASKAP Mid Survey: layering data sources\n",
    "\n",
    "<img src=\"assets/browse_hips.png\" width=\"20%\">"
   ]
  },
  {
   "cell_type": "markdown",
   "id": "a674f3dc-90c6-4754-815a-95704bc231db",
   "metadata": {
    "editable": true,
    "slideshow": {
     "slide_type": "slide"
    },
    "tags": []
   },
   "source": [
    "<img src=\"assets/euclid.png\" width=\"80%\">\n",
    "\n",
    "### FITS image from Euclid\n",
    "\n",
    "Images from the Euclid telescope can be downloaded on [ESA's webpages](https://euclid.esac.esa.int/dr/ero/ERO-Perseus).\n",
    "\n",
    "Credit: ESA/Euclid/Euclid Consortium/NASA/ERO2024"
   ]
  },
  {
   "cell_type": "markdown",
   "id": "a2a5217f-bac3-45a1-b9b3-b355da17692b",
   "metadata": {
    "editable": true,
    "slideshow": {
     "slide_type": "slide"
    },
    "tags": []
   },
   "source": [
    " <img src=\"assets/gaia.png\" width=\"80%\"> \n",
    "\n",
    "### Catalog data from Gaia"
   ]
  },
  {
   "cell_type": "code",
   "execution_count": 18,
   "id": "49455d40-5bd5-4cee-aca6-49f6e6a479d2",
   "metadata": {
    "editable": true,
    "slideshow": {
     "slide_type": ""
    },
    "tags": []
   },
   "outputs": [],
   "source": [
    "from astroquery.vizier import Vizier"
   ]
  },
  {
   "cell_type": "code",
   "execution_count": 23,
   "id": "113e74aa-a7db-4820-87ee-fedcde06dff4",
   "metadata": {
    "editable": true,
    "slideshow": {
     "slide_type": ""
    },
    "tags": []
   },
   "outputs": [
    {
     "data": {
      "text/html": [
       "<div><i>Table length=1404</i>\n",
       "<table id=\"table139740184150672\" class=\"table-striped table-bordered table-condensed\">\n",
       "<thead><tr><th>Source</th><th>SolID</th><th>Class</th><th>PGal</th><th>PQSO</th><th>z</th><th>RA_ICRS</th><th>DE_ICRS</th><th>_RA.icrs</th><th>_DE.icrs</th></tr></thead>\n",
       "<thead><tr><th></th><th></th><th></th><th></th><th></th><th></th><th>deg</th><th>deg</th><th>deg</th><th>deg</th></tr></thead>\n",
       "<thead><tr><th>int64</th><th>int64</th><th>str15</th><th>float64</th><th>float64</th><th>float64</th><th>float64</th><th>float64</th><th>float64</th><th>float64</th></tr></thead>\n",
       "<tr><td>235260132174610944</td><td>1636148068921376768</td><td>GALAXY</td><td>1</td><td>0</td><td>--</td><td>51.83238040135</td><td>39.61899259737</td><td>51.83238040135</td><td>39.61899259737</td></tr>\n",
       "<tr><td>235267145857736448</td><td>1636148068921376768</td><td></td><td>1</td><td>0</td><td>--</td><td>51.52874707274</td><td>39.50921980834</td><td>51.52874707274</td><td>39.50921980834</td></tr>\n",
       "<tr><td>235267695612636416</td><td>1636148068921376768</td><td>GALAXY</td><td>0.01343916</td><td>0</td><td>--</td><td>51.56483745439</td><td>39.55359265096</td><td>51.56483745439</td><td>39.55359265096</td></tr>\n",
       "<tr><td>235268211009156864</td><td>1636148068921376768</td><td></td><td>1</td><td>0</td><td>--</td><td>51.47145545681</td><td>39.53985215782</td><td>51.47145545681</td><td>39.53985215782</td></tr>\n",
       "<tr><td>235273021371302400</td><td>1636148068921376768</td><td>GALAXY</td><td>0.03964497</td><td>0</td><td>--</td><td>51.75176437185</td><td>39.66360385773</td><td>51.75176437185</td><td>39.66360385773</td></tr>\n",
       "<tr><td>235273021371302528</td><td>1636148068921376768</td><td>GALAXY</td><td>1</td><td>0</td><td>--</td><td>51.75104711652</td><td>39.66381405921</td><td>51.75104711652</td><td>39.66381405921</td></tr>\n",
       "<tr><td>235273085796092416</td><td>1636148068921376768</td><td></td><td>0.002925941</td><td>0</td><td>--</td><td>51.78738520135</td><td>39.68714007706</td><td>51.78738520135</td><td>39.68714007706</td></tr>\n",
       "<tr><td>235273571128717568</td><td>1636148068921376768</td><td>GALAXY</td><td>1</td><td>0</td><td>0.183015</td><td>51.57795308277</td><td>39.57423835883</td><td>51.57795308277</td><td>39.57423835883</td></tr>\n",
       "<tr><td>235277041462287488</td><td>1636148068921376768</td><td></td><td>1</td><td>0</td><td>--</td><td>51.66387829566</td><td>39.75707479858</td><td>51.66387829566</td><td>39.75707479858</td></tr>\n",
       "<tr><td>...</td><td>...</td><td>...</td><td>...</td><td>...</td><td>...</td><td>...</td><td>...</td><td>...</td><td>...</td></tr>\n",
       "<tr><td>241260549379704704</td><td>1636148068921376768</td><td></td><td>0.8000591</td><td>2.250357e-05</td><td>--</td><td>50.37221939836</td><td>43.11301842877</td><td>50.37221939836</td><td>43.11301842877</td></tr>\n",
       "<tr><td>241264359014960640</td><td>1636148068921376768</td><td>GALAXY</td><td>0.006397435</td><td>0</td><td>--</td><td>50.40937643860</td><td>43.21034718067</td><td>50.40937643860</td><td>43.21034718067</td></tr>\n",
       "<tr><td>241264462101567616</td><td>1636148068921376768</td><td>GALAXY</td><td>1</td><td>0</td><td>0.138653</td><td>50.35523725281</td><td>43.20332111620</td><td>50.35523725281</td><td>43.20332111620</td></tr>\n",
       "<tr><td>241265016147454464</td><td>1636148068921376768</td><td>GALAXY</td><td>1</td><td>0</td><td>0.0941514</td><td>50.26697968395</td><td>43.20183245522</td><td>50.26697968395</td><td>43.20183245522</td></tr>\n",
       "<tr><td>241266356178206336</td><td>1636148068921376768</td><td>GALAXY</td><td>1</td><td>0</td><td>--</td><td>50.43000167285</td><td>43.29656847811</td><td>50.43000167285</td><td>43.29656847811</td></tr>\n",
       "<tr><td>241279344159214976</td><td>1636148068921376768</td><td>GALAXY</td><td>0.002152516</td><td>0</td><td>--</td><td>50.34369202059</td><td>43.35420631045</td><td>50.34369202059</td><td>43.35420631045</td></tr>\n",
       "<tr><td>241294737321260544</td><td>1636148068921376768</td><td>GALAXY</td><td>1</td><td>0</td><td>0.0763439</td><td>49.67443547728</td><td>43.05552101285</td><td>49.67443547728</td><td>43.05552101285</td></tr>\n",
       "<tr><td>241294737321260672</td><td>1636148068921376768</td><td>GALAXY</td><td>1</td><td>0</td><td>0.120515</td><td>49.67689627381</td><td>43.05465783601</td><td>49.67689627381</td><td>43.05465783601</td></tr>\n",
       "<tr><td>241298482532656256</td><td>1636148068921376768</td><td>GALAXY</td><td>1</td><td>0</td><td>0.064876</td><td>49.80635414806</td><td>43.25817090520</td><td>49.80635414806</td><td>43.25817090520</td></tr>\n",
       "</table></div>"
      ],
      "text/plain": [
       "<Table length=1404>\n",
       "      Source              SolID        ...     _RA.icrs        _DE.icrs   \n",
       "                                       ...       deg             deg      \n",
       "      int64               int64        ...     float64         float64    \n",
       "------------------ ------------------- ... --------------- ---------------\n",
       "235260132174610944 1636148068921376768 ...  51.83238040135  39.61899259737\n",
       "235267145857736448 1636148068921376768 ...  51.52874707274  39.50921980834\n",
       "235267695612636416 1636148068921376768 ...  51.56483745439  39.55359265096\n",
       "235268211009156864 1636148068921376768 ...  51.47145545681  39.53985215782\n",
       "235273021371302400 1636148068921376768 ...  51.75176437185  39.66360385773\n",
       "235273021371302528 1636148068921376768 ...  51.75104711652  39.66381405921\n",
       "235273085796092416 1636148068921376768 ...  51.78738520135  39.68714007706\n",
       "235273571128717568 1636148068921376768 ...  51.57795308277  39.57423835883\n",
       "235277041462287488 1636148068921376768 ...  51.66387829566  39.75707479858\n",
       "               ...                 ... ...             ...             ...\n",
       "241260549379704704 1636148068921376768 ...  50.37221939836  43.11301842877\n",
       "241264359014960640 1636148068921376768 ...  50.40937643860  43.21034718067\n",
       "241264462101567616 1636148068921376768 ...  50.35523725281  43.20332111620\n",
       "241265016147454464 1636148068921376768 ...  50.26697968395  43.20183245522\n",
       "241266356178206336 1636148068921376768 ...  50.43000167285  43.29656847811\n",
       "241279344159214976 1636148068921376768 ...  50.34369202059  43.35420631045\n",
       "241294737321260544 1636148068921376768 ...  49.67443547728  43.05552101285\n",
       "241294737321260672 1636148068921376768 ...  49.67689627381  43.05465783601\n",
       "241298482532656256 1636148068921376768 ...  49.80635414806  43.25817090520"
      ]
     },
     "execution_count": 23,
     "metadata": {},
     "output_type": "execute_result"
    }
   ],
   "source": [
    "extra_galactic = Vizier(catalog=\"I/356/galcand\", row_limit=-1).query_region(\n",
    "    aladin.target,\n",
    "    radius=field_of_view\n",
    ")[0]\n",
    "extra_galactic"
   ]
  },
  {
   "cell_type": "code",
   "execution_count": 24,
   "id": "d49be0e1-e868-4c31-a891-c29ffc021e89",
   "metadata": {
    "editable": true,
    "slideshow": {
     "slide_type": ""
    },
    "tags": []
   },
   "outputs": [],
   "source": [
    "aladin.add_table(extra_galactic[extra_galactic[\"Class\"] == \"GALAXY\"], \n",
    "                 shape=\"circle\", source_size=15, color=\"lightblue\")\n",
    "aladin.add_table(extra_galactic[extra_galactic[\"Class\"] != \"GALAXY\"], \n",
    "                 shape=\"circle\", source_size=15, color=\"pink\")"
   ]
  },
  {
   "cell_type": "markdown",
   "id": "96a0d4d0-e92d-4131-b6fc-44503cf097e0",
   "metadata": {
    "editable": true,
    "slideshow": {
     "slide_type": "slide"
    },
    "tags": []
   },
   "source": [
    "<img src=\"assets/chandra.png\" width=\"80%\">\n",
    "\n",
    "### Drawing shapes on the Chandra Survey"
   ]
  },
  {
   "cell_type": "code",
   "execution_count": 7,
   "id": "4f14c353-f107-4480-a511-62f3d98d1189",
   "metadata": {
    "editable": true,
    "slideshow": {
     "slide_type": ""
    },
    "tags": []
   },
   "outputs": [
    {
     "data": {
      "text/latex": [
       "$17^\\circ23{}^\\prime49.452{}^{\\prime\\prime}$"
      ],
      "text/plain": [
       "<Angle 17.39707 deg>"
      ]
     },
     "execution_count": 7,
     "metadata": {},
     "output_type": "execute_result"
    }
   ],
   "source": []
  },
  {
   "cell_type": "code",
   "execution_count": null,
   "id": "fe090aaf-832c-4317-8268-02427cfd9c1e",
   "metadata": {
    "editable": true,
    "slideshow": {
     "slide_type": ""
    },
    "tags": []
   },
   "outputs": [],
   "source": []
  }
 ],
 "metadata": {
  "kernelspec": {
   "display_name": "Python 3 (ipykernel)",
   "language": "python",
   "name": "python3"
  },
  "language_info": {
   "codemirror_mode": {
    "name": "ipython",
    "version": 3
   },
   "file_extension": ".py",
   "mimetype": "text/x-python",
   "name": "python",
   "nbconvert_exporter": "python",
   "pygments_lexer": "ipython3",
   "version": "3.12.4"
  }
 },
 "nbformat": 4,
 "nbformat_minor": 5
}
