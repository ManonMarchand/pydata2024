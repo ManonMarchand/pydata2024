{
 "cells": [
  {
   "cell_type": "markdown",
   "id": "e69d9444-0fe8-4b61-9dbf-a0e3cd8f6c56",
   "metadata": {
    "editable": true,
    "slideshow": {
     "slide_type": "slide"
    },
    "tags": []
   },
   "source": [
    "# The sky in a notebook: the `ipyaladin` widget"
   ]
  },
  {
   "cell_type": "code",
   "execution_count": 2,
   "id": "c2b189d9-3252-46fa-8ca5-563688290ae7",
   "metadata": {
    "editable": true,
    "slideshow": {
     "slide_type": "slide"
    },
    "tags": []
   },
   "outputs": [],
   "source": [
    "from ipyaladin import Aladin"
   ]
  },
  {
   "cell_type": "code",
   "execution_count": 3,
   "id": "80b46c2c-3380-4da3-8c16-02092c1140d5",
   "metadata": {
    "editable": true,
    "slideshow": {
     "slide_type": "slide"
    },
    "tags": []
   },
   "outputs": [],
   "source": [
    "aladin = Aladin(height=200)"
   ]
  },
  {
   "cell_type": "code",
   "execution_count": 4,
   "id": "7c8d6905-1af9-4c61-9786-a37fabb84a3e",
   "metadata": {
    "editable": true,
    "slideshow": {
     "slide_type": "subslide"
    },
    "tags": []
   },
   "outputs": [
    {
     "data": {
      "application/vnd.jupyter.widget-view+json": {
       "model_id": "e3a6d5eb846640e9ba94ccbbbd3aa06c",
       "version_major": 2,
       "version_minor": 1
      },
      "text/plain": [
       "Aladin()"
      ]
     },
     "execution_count": 4,
     "metadata": {},
     "output_type": "execute_result"
    }
   ],
   "source": [
    "aladin"
   ]
  },
  {
   "cell_type": "code",
   "execution_count": 5,
   "id": "e6860626-4805-4e61-8108-9c8dadfb0f9f",
   "metadata": {
    "editable": true,
    "slideshow": {
     "slide_type": ""
    },
    "tags": []
   },
   "outputs": [],
   "source": [
    "aladin.fov = 0.5"
   ]
  },
  {
   "cell_type": "code",
   "execution_count": null,
   "id": "2d2d4488-a255-45c1-a43d-b36b032c3366",
   "metadata": {},
   "outputs": [],
   "source": []
  }
 ],
 "metadata": {
  "kernelspec": {
   "display_name": "Python 3 (ipykernel)",
   "language": "python",
   "name": "python3"
  },
  "language_info": {
   "codemirror_mode": {
    "name": "ipython",
    "version": 3
   },
   "file_extension": ".py",
   "mimetype": "text/x-python",
   "name": "python",
   "nbconvert_exporter": "python",
   "pygments_lexer": "ipython3",
   "version": "3.12.4"
  }
 },
 "nbformat": 4,
 "nbformat_minor": 5
}
